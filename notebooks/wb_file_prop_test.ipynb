{
 "cells": [
  {
   "cell_type": "code",
   "execution_count": 1,
   "id": "c4fedd54",
   "metadata": {},
   "outputs": [],
   "source": [
    "import sys\n",
    "import os\n",
    "\n",
    "# Add the src directory to the Python path\n",
    "sys.path.append(os.path.abspath(os.path.join(os.getcwd(), '../src')))\n",
    "\n",
    "import wb_file_props\n",
    "from pprint import pp"
   ]
  },
  {
   "cell_type": "code",
   "execution_count": 2,
   "id": "e0918177",
   "metadata": {},
   "outputs": [
    {
     "name": "stdout",
     "output_type": "stream",
     "text": [
      "{'script-direction': {'direction': 'left-to-right',\n",
      "                      'counts': defaultdict(<class 'int'>,\n",
      "                                            {'L': 37,\n",
      "                                             'WS': 8,\n",
      "                                             'CS': 3,\n",
      "                                             'ON': 8,\n",
      "                                             'B': 1,\n",
      "                                             'AL': 0,\n",
      "                                             'R': 0}),\n",
      "                      'report': 'Determined script direction for English to be '\n",
      "                                'left-to-right with character direction counts '\n",
      "                                '37:0 in favor.'},\n",
      " 'punct-style': {'quotation-pairs': [['“', '”'], ['‘', '’']],\n",
      "                 'counts': defaultdict(<function PunctStyle.__init__.<locals>.<lambda> at 0x108344040>,\n",
      "                                       {'‘': defaultdict(<class 'int'>,\n",
      "                                                         {'n_start_word': 1,\n",
      "                                                          'n_start2_word': 1,\n",
      "                                                          'n_end_word': 0,\n",
      "                                                          'n_end2_word': 0,\n",
      "                                                          'n_in_word': 0,\n",
      "                                                          'total': 1}),\n",
      "                                        '’': defaultdict(<class 'int'>,\n",
      "                                                         {'n_start_word': 0,\n",
      "                                                          'n_start2_word': 0,\n",
      "                                                          'n_end_word': 1,\n",
      "                                                          'n_end2_word': 1,\n",
      "                                                          'n_in_word': 0,\n",
      "                                                          'total': 1}),\n",
      "                                        '“': defaultdict(<class 'int'>,\n",
      "                                                         {'n_start_word': 2,\n",
      "                                                          'n_start2_word': 2,\n",
      "                                                          'n_end_word': 0,\n",
      "                                                          'n_end2_word': 0,\n",
      "                                                          'n_in_word': 0,\n",
      "                                                          'total': 2}),\n",
      "                                        '”': defaultdict(<class 'int'>,\n",
      "                                                         {'n_start_word': 0,\n",
      "                                                          'n_start2_word': 0,\n",
      "                                                          'n_end_word': 0,\n",
      "                                                          'n_end2_word': 2,\n",
      "                                                          'n_in_word': 0,\n",
      "                                                          'total': 2}),\n",
      "                                        \"'\": defaultdict(<class 'int'>,\n",
      "                                                         {'n_start_word': 0,\n",
      "                                                          'n_start2_word': 0,\n",
      "                                                          'n_end_word': 0,\n",
      "                                                          'n_end2_word': 0,\n",
      "                                                          'n_in_word': 1,\n",
      "                                                          'total': 1}),\n",
      "                                        'ʼ': defaultdict(<class 'int'>,\n",
      "                                                         {'n_start_word': 0,\n",
      "                                                          'n_start2_word': 0,\n",
      "                                                          'n_end_word': 0,\n",
      "                                                          'n_end2_word': 0,\n",
      "                                                          'n_in_word': 1,\n",
      "                                                          'total': 1})}),\n",
      "                 'pair-counts': defaultdict(<function PunctStyle.__init__.<locals>.<lambda> at 0x1083440e0>,\n",
      "                                            {'“': defaultdict(<class 'int'>,\n",
      "                                                              {'”': 2}),\n",
      "                                             '”': defaultdict(<class 'int'>,\n",
      "                                                              {'”': 1}),\n",
      "                                             '‘': defaultdict(<class 'int'>,\n",
      "                                                              {'’': 1})})},\n",
      " 'n-chars': 57,\n",
      " 'lang-code': 'eng',\n",
      " 'lang-name': 'English'}\n"
     ]
    }
   ],
   "source": [
    "## Apply script to string\n",
    "text = \"\"\"She asked: “Whatʼs a ‘PyPi’?”\n",
    "He replied: “I don't know.”\"\"\"\n",
    "result_dict = wb_file_props.script_punct(None, text, \"eng\", \"English\")\n",
    "pp(result_dict)"
   ]
  }
 ],
 "metadata": {
  "kernelspec": {
   "display_name": "greek-room-api",
   "language": "python",
   "name": "python3"
  },
  "language_info": {
   "codemirror_mode": {
    "name": "ipython",
    "version": 3
   },
   "file_extension": ".py",
   "mimetype": "text/x-python",
   "name": "python",
   "nbconvert_exporter": "python",
   "pygments_lexer": "ipython3",
   "version": "3.12.11"
  }
 },
 "nbformat": 4,
 "nbformat_minor": 5
}
